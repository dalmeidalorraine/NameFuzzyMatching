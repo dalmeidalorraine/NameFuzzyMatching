{
 "cells": [
  {
   "cell_type": "code",
   "execution_count": 2,
   "metadata": {},
   "outputs": [],
   "source": [
    "import csv\n",
    "import pandas as pd\n",
    "import numpy as np\n",
    "import time\n",
    "import warnings\n",
    "warnings.filterwarnings('ignore')"
   ]
  },
  {
   "cell_type": "code",
   "execution_count": 3,
   "metadata": {},
   "outputs": [],
   "source": [
    "groundTruth = pd.read_csv(\"Datasets/G.csv\", sep='|')\n",
    "sTrain = pd.read_csv(\"Datasets/STrain.csv\", sep='|')"
   ]
  },
  {
   "cell_type": "markdown",
   "metadata": {},
   "source": [
    "#### TF-IDF with N-grams"
   ]
  },
  {
   "cell_type": "code",
   "execution_count": 3,
   "metadata": {},
   "outputs": [
    {
     "name": "stdout",
     "output_type": "stream",
     "text": [
      "All 3-grams in \"McDonalds\":\n"
     ]
    },
    {
     "data": {
      "text/plain": [
       "['McD', 'cDo', 'Don', 'ona', 'nal', 'ald', 'lds']"
      ]
     },
     "execution_count": 3,
     "metadata": {},
     "output_type": "execute_result"
    }
   ],
   "source": [
    "import re\n",
    "def ngrams(string, n=3):\n",
    "    string = re.sub(r'[,-./]|\\sBD',r'', string)\n",
    "    ngrams = zip(*[string[i:] for i in range(n)])\n",
    "    return [''.join(ngram) for ngram in ngrams]\n",
    "\n",
    "print('All 3-grams in \"McDonalds\":')\n",
    "ngrams('McDonalds')"
   ]
  },
  {
   "cell_type": "code",
   "execution_count": 4,
   "metadata": {},
   "outputs": [],
   "source": [
    "# Can be parallelized\n",
    "from sklearn.feature_extraction.text import TfidfVectorizer\n",
    "company_names = groundTruth['name']\n",
    "vectorizer = TfidfVectorizer(min_df=1, analyzer=ngrams)\n",
    "ground_truth_matrix = vectorizer.fit_transform(company_names)"
   ]
  },
  {
   "cell_type": "code",
   "execution_count": 5,
   "metadata": {},
   "outputs": [
    {
     "data": {
      "text/plain": [
       "<10000x78817 sparse matrix of type '<class 'numpy.float64'>'\n",
       "\twith 223152 stored elements in Compressed Sparse Row format>"
      ]
     },
     "execution_count": 5,
     "metadata": {},
     "output_type": "execute_result"
    }
   ],
   "source": [
    "sTrainFil = sTrain[0:10000]\n",
    "train_matrix = vectorizer.transform(sTrainFil['name'])\n",
    "train_matrix"
   ]
  },
  {
   "cell_type": "code",
   "execution_count": 6,
   "metadata": {},
   "outputs": [],
   "source": [
    "# Below code calculates cosine similarities and return top results\n",
    "# Implement LSA\n",
    "def cosine_similarities(trainMat, groundTruthMat, top):\n",
    "    sim = trainMat*groundTruthMat.T.tocsc()\n",
    "    return np.argmax(sim, axis=1), np.max(sim, axis=1)"
   ]
  },
  {
   "cell_type": "code",
   "execution_count": 7,
   "metadata": {},
   "outputs": [
    {
     "name": "stdout",
     "output_type": "stream",
     "text": [
      "Time taken for computing similarities: 84.30719304084778\n"
     ]
    }
   ],
   "source": [
    "t1 = time.time()\n",
    "match_id, score = cosine_similarities(train_matrix, ground_truth_matrix,1)\n",
    "t = time.time()-t1\n",
    "print(\"Time taken for computing similarities:\", t)"
   ]
  },
  {
   "cell_type": "code",
   "execution_count": 8,
   "metadata": {},
   "outputs": [],
   "source": [
    "match_id_col, match_score_col = np.asarray(match_id).ravel(), score.toarray().ravel()\n",
    "match_company_id = np.array(groundTruth.loc[match_id_col]['company_id'])\n",
    "match_company_name = np.array(groundTruth.loc[match_id_col]['name'])"
   ]
  },
  {
   "cell_type": "code",
   "execution_count": 9,
   "metadata": {},
   "outputs": [],
   "source": [
    "sTrainFil['match_id'] = match_id_col\n",
    "sTrainFil['match_score'] = match_score_col\n",
    "sTrainFil['match_company_id'] = match_company_id\n",
    "sTrainFil['match_company_name'] = match_company_name"
   ]
  },
  {
   "cell_type": "code",
   "execution_count": 10,
   "metadata": {},
   "outputs": [
    {
     "data": {
      "text/html": [
       "<div>\n",
       "<style scoped>\n",
       "    .dataframe tbody tr th:only-of-type {\n",
       "        vertical-align: middle;\n",
       "    }\n",
       "\n",
       "    .dataframe tbody tr th {\n",
       "        vertical-align: top;\n",
       "    }\n",
       "\n",
       "    .dataframe thead th {\n",
       "        text-align: right;\n",
       "    }\n",
       "</style>\n",
       "<table border=\"1\" class=\"dataframe\">\n",
       "  <thead>\n",
       "    <tr style=\"text-align: right;\">\n",
       "      <th></th>\n",
       "      <th>train_index</th>\n",
       "      <th>name</th>\n",
       "      <th>company_id</th>\n",
       "      <th>match_id</th>\n",
       "      <th>match_score</th>\n",
       "      <th>match_company_id</th>\n",
       "      <th>match_company_name</th>\n",
       "    </tr>\n",
       "  </thead>\n",
       "  <tbody>\n",
       "    <tr>\n",
       "      <th>0</th>\n",
       "      <td>0</td>\n",
       "      <td>ATRION Immo bilien &amp; Co. KG</td>\n",
       "      <td>-1</td>\n",
       "      <td>342766</td>\n",
       "      <td>0.498201</td>\n",
       "      <td>250537</td>\n",
       "      <td>ATRION Immobilien Verwaltung GmbH</td>\n",
       "    </tr>\n",
       "    <tr>\n",
       "      <th>1</th>\n",
       "      <td>1</td>\n",
       "      <td>MyTyme Inve stments Inc</td>\n",
       "      <td>356624</td>\n",
       "      <td>84431</td>\n",
       "      <td>0.901331</td>\n",
       "      <td>356624</td>\n",
       "      <td>MyTyme Investments Inc</td>\n",
       "    </tr>\n",
       "    <tr>\n",
       "      <th>2</th>\n",
       "      <td>2</td>\n",
       "      <td>Financial USI.</td>\n",
       "      <td>510805</td>\n",
       "      <td>427147</td>\n",
       "      <td>0.592161</td>\n",
       "      <td>152602</td>\n",
       "      <td>DS Financial, LLC</td>\n",
       "    </tr>\n",
       "    <tr>\n",
       "      <th>3</th>\n",
       "      <td>3</td>\n",
       "      <td>FlexShares Trust - FlexShares Morningstar Emer...</td>\n",
       "      <td>523467</td>\n",
       "      <td>432988</td>\n",
       "      <td>0.962004</td>\n",
       "      <td>523467</td>\n",
       "      <td>FlexShares Trust - FlexShares Morningstar Emer...</td>\n",
       "    </tr>\n",
       "    <tr>\n",
       "      <th>4</th>\n",
       "      <td>4</td>\n",
       "      <td>Health Sinai SF</td>\n",
       "      <td>231108</td>\n",
       "      <td>75219</td>\n",
       "      <td>0.541243</td>\n",
       "      <td>231108</td>\n",
       "      <td>Sinai Health System Foundation</td>\n",
       "    </tr>\n",
       "  </tbody>\n",
       "</table>\n",
       "</div>"
      ],
      "text/plain": [
       "   train_index                                               name  company_id  \\\n",
       "0            0                        ATRION Immo bilien & Co. KG          -1   \n",
       "1            1                            MyTyme Inve stments Inc      356624   \n",
       "2            2                                     Financial USI.      510805   \n",
       "3            3  FlexShares Trust - FlexShares Morningstar Emer...      523467   \n",
       "4            4                                    Health Sinai SF      231108   \n",
       "\n",
       "   match_id  match_score  match_company_id  \\\n",
       "0    342766     0.498201            250537   \n",
       "1     84431     0.901331            356624   \n",
       "2    427147     0.592161            152602   \n",
       "3    432988     0.962004            523467   \n",
       "4     75219     0.541243            231108   \n",
       "\n",
       "                                  match_company_name  \n",
       "0                  ATRION Immobilien Verwaltung GmbH  \n",
       "1                             MyTyme Investments Inc  \n",
       "2                                  DS Financial, LLC  \n",
       "3  FlexShares Trust - FlexShares Morningstar Emer...  \n",
       "4                     Sinai Health System Foundation  "
      ]
     },
     "execution_count": 10,
     "metadata": {},
     "output_type": "execute_result"
    }
   ],
   "source": [
    "sTrainFil.head()"
   ]
  },
  {
   "cell_type": "code",
   "execution_count": null,
   "metadata": {},
   "outputs": [],
   "source": []
  }
 ],
 "metadata": {
  "kernelspec": {
   "display_name": "Python 3",
   "language": "python",
   "name": "python3"
  },
  "language_info": {
   "codemirror_mode": {
    "name": "ipython",
    "version": 3
   },
   "file_extension": ".py",
   "mimetype": "text/x-python",
   "name": "python",
   "nbconvert_exporter": "python",
   "pygments_lexer": "ipython3",
   "version": "3.6.4"
  }
 },
 "nbformat": 4,
 "nbformat_minor": 2
}
