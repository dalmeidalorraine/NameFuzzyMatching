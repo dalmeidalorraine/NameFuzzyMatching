{
 "cells": [
  {
   "cell_type": "markdown",
   "metadata": {},
   "source": [
    "All data is provided as plain text column separated files:\n",
    "* Column separated by ‘|’ (bar), one line per entry;\n",
    "* the test set will have the same size as STrain provided to you now (hence, no memory issues during test).\n",
    "We provide you up-front with three datasets: G, STrain and sample_submission\n",
    "* G has as columns:\n",
    "    * company_id: the id of the company in our ground-truth administration \n",
    "    * name: the name of the company in our ground-truth administration\n",
    "* STrain has as columns:\n",
    "    * train_index: an index of the company in the external source dataset;\n",
    "    * name: the name of the company as represented in the external source dataset;\n",
    "    * company_id: the correct match of this entry to G. Is -1 if correct label is ‘not in G’, otherwise corresponds to G_id\n",
    "* sample_submission has as columns:\n",
    "    * test_index: index of the company in an external source dataset (note: different index from STrain, full STest will only be provided during the interview); \n",
    "    * company_id: the predicted match of this entry to G. Note that in this file, these are randomly generated predictions.\n",
    "\n",
    "You need to design, code and train a model that predicts company_id, minimizing the cost function as specified on the previous page \n",
    "Please make sure that your trained model:\n",
    "\n",
    "* accepts as input a plain text file of the format STest, containing two columns test_index and name;\n",
    "* runs from the command line, using as input the path to the file STest;\n",
    "* prediction time should be ‘near real time’, i.e. about 1 minute for 10,000 entries (on a regular laptop);\n",
    "* It should return a file with the above plain text format, including the columns test_index and company_id (an example submission is provided)."
   ]
  },
  {
   "cell_type": "code",
   "execution_count": 1,
   "metadata": {},
   "outputs": [],
   "source": [
    "import csv\n",
    "import pandas as pd\n",
    "import numpy as np"
   ]
  },
  {
   "cell_type": "code",
   "execution_count": 2,
   "metadata": {},
   "outputs": [
    {
     "name": "stdout",
     "output_type": "stream",
     "text": [
      "['company_id', 'name']\n",
      "   company_id                        name\n",
      "0      634022                  PRIMCOM SA\n",
      "1      324497       The David Isaacs Fund\n",
      "2      280848  Bramor Enterprises Limited\n",
      "3      432662                NAVEXIM S.A.\n",
      "4      524224              Magal Group SA\n",
      "(450256, 2)\n"
     ]
    }
   ],
   "source": [
    "groundTruth = pd.read_csv(\"Datasets/G.csv\", sep='|')\n",
    "print(list(groundTruth.columns.values))\n",
    "print(groundTruth.head())\n",
    "print(groundTruth.shape)"
   ]
  },
  {
   "cell_type": "code",
   "execution_count": 3,
   "metadata": {},
   "outputs": [
    {
     "name": "stdout",
     "output_type": "stream",
     "text": [
      "count    450256.0\n",
      "mean          1.0\n",
      "std           0.0\n",
      "min           1.0\n",
      "25%           1.0\n",
      "50%           1.0\n",
      "75%           1.0\n",
      "max           1.0\n",
      "Name: company_id, dtype: float64\n"
     ]
    }
   ],
   "source": [
    "companyCounts = groundTruth['company_id'].value_counts()\n",
    "print(companyCounts.describe())\n",
    "topCompanyCounts = companyCounts.nlargest(20)"
   ]
  },
  {
   "cell_type": "code",
   "execution_count": 5,
   "metadata": {},
   "outputs": [
    {
     "name": "stdout",
     "output_type": "stream",
     "text": [
      "['train_index', 'name', 'company_id']\n",
      "   train_index                                               name  company_id\n",
      "0            0                        ATRION Immo bilien & Co. KG          -1\n",
      "1            1                            MyTyme Inve stments Inc      356624\n",
      "2            2                                     Financial USI.      510805\n",
      "3            3  FlexShares Trust - FlexShares Morningstar Emer...      523467\n",
      "4            4                                    Health Sinai SF      231108\n",
      "(100000, 3)\n"
     ]
    }
   ],
   "source": [
    "sTrain = pd.read_csv(\"Datasets/STrain.csv\", sep='|')\n",
    "print(list(sTrain.columns.values))\n",
    "print(sTrain.head())\n",
    "print(sTrain.shape)"
   ]
  },
  {
   "cell_type": "code",
   "execution_count": 6,
   "metadata": {},
   "outputs": [
    {
     "name": "stdout",
     "output_type": "stream",
     "text": [
      "(69652, 3)\n"
     ]
    }
   ],
   "source": [
    "sTrainFilter = sTrain[(sTrain.company_id!=-1)]\n",
    "print(sTrainFilter.shape)\n",
    "matchingRecords = sTrainFilter.join(\n",
    "    groundTruth.set_index(\"company_id\"), on=\"company_id\", lsuffix='_train', rsuffix='_GT')"
   ]
  },
  {
   "cell_type": "code",
   "execution_count": 6,
   "metadata": {},
   "outputs": [
    {
     "name": "stdout",
     "output_type": "stream",
     "text": [
      "(69652, 4)\n"
     ]
    },
    {
     "data": {
      "text/html": [
       "<div>\n",
       "<style scoped>\n",
       "    .dataframe tbody tr th:only-of-type {\n",
       "        vertical-align: middle;\n",
       "    }\n",
       "\n",
       "    .dataframe tbody tr th {\n",
       "        vertical-align: top;\n",
       "    }\n",
       "\n",
       "    .dataframe thead th {\n",
       "        text-align: right;\n",
       "    }\n",
       "</style>\n",
       "<table border=\"1\" class=\"dataframe\">\n",
       "  <thead>\n",
       "    <tr style=\"text-align: right;\">\n",
       "      <th></th>\n",
       "      <th>train_index</th>\n",
       "      <th>name_train</th>\n",
       "      <th>company_id</th>\n",
       "      <th>name_GT</th>\n",
       "    </tr>\n",
       "  </thead>\n",
       "  <tbody>\n",
       "    <tr>\n",
       "      <th>1</th>\n",
       "      <td>1</td>\n",
       "      <td>MyTyme Inve stments Inc</td>\n",
       "      <td>356624</td>\n",
       "      <td>MyTyme Investments Inc</td>\n",
       "    </tr>\n",
       "    <tr>\n",
       "      <th>2</th>\n",
       "      <td>2</td>\n",
       "      <td>Financial USI.</td>\n",
       "      <td>510805</td>\n",
       "      <td>UBS Financial Services Inc.</td>\n",
       "    </tr>\n",
       "    <tr>\n",
       "      <th>3</th>\n",
       "      <td>3</td>\n",
       "      <td>FlexShares Trust - FlexShares Morningstar Emer...</td>\n",
       "      <td>523467</td>\n",
       "      <td>FlexShares Trust - FlexShares Morningstar Emer...</td>\n",
       "    </tr>\n",
       "    <tr>\n",
       "      <th>4</th>\n",
       "      <td>4</td>\n",
       "      <td>Health Sinai SF</td>\n",
       "      <td>231108</td>\n",
       "      <td>Sinai Health System Foundation</td>\n",
       "    </tr>\n",
       "    <tr>\n",
       "      <th>6</th>\n",
       "      <td>6</td>\n",
       "      <td>LLC TEBS Fund II, ATAX</td>\n",
       "      <td>277891</td>\n",
       "      <td>ATAX TEBS II, LLC</td>\n",
       "    </tr>\n",
       "  </tbody>\n",
       "</table>\n",
       "</div>"
      ],
      "text/plain": [
       "   train_index                                         name_train  company_id  \\\n",
       "1            1                            MyTyme Inve stments Inc      356624   \n",
       "2            2                                     Financial USI.      510805   \n",
       "3            3  FlexShares Trust - FlexShares Morningstar Emer...      523467   \n",
       "4            4                                    Health Sinai SF      231108   \n",
       "6            6                             LLC TEBS Fund II, ATAX      277891   \n",
       "\n",
       "                                             name_GT  \n",
       "1                             MyTyme Investments Inc  \n",
       "2                        UBS Financial Services Inc.  \n",
       "3  FlexShares Trust - FlexShares Morningstar Emer...  \n",
       "4                     Sinai Health System Foundation  \n",
       "6                                  ATAX TEBS II, LLC  "
      ]
     },
     "execution_count": 6,
     "metadata": {},
     "output_type": "execute_result"
    }
   ],
   "source": [
    "print(matchingRecords.shape)\n",
    "repeatedCounts = matchingRecords['company_id'].value_counts()\n",
    "#print(repeatedCounts.describe())\n",
    "matchingRecords.head()"
   ]
  },
  {
   "cell_type": "code",
   "execution_count": 9,
   "metadata": {},
   "outputs": [
    {
     "data": {
      "text/plain": [
       "48764"
      ]
     },
     "execution_count": 9,
     "metadata": {},
     "output_type": "execute_result"
    }
   ],
   "source": [
    "test = [x for x in np.array(sTrainFilter['company_id']) if x in groundTruth['company_id']]\n",
    "len(test)"
   ]
  },
  {
   "cell_type": "markdown",
   "metadata": {},
   "source": [
    "#### TF-IDF with N-grams"
   ]
  },
  {
   "cell_type": "code",
   "execution_count": 13,
   "metadata": {},
   "outputs": [
    {
     "name": "stdout",
     "output_type": "stream",
     "text": [
      "All 3-grams in \"McDonalds\":\n"
     ]
    },
    {
     "data": {
      "text/plain": [
       "['McD', 'cDo', 'Don', 'ona', 'nal', 'ald', 'lds']"
      ]
     },
     "execution_count": 13,
     "metadata": {},
     "output_type": "execute_result"
    }
   ],
   "source": [
    "import re\n",
    "\n",
    "def ngrams(string, n=3):\n",
    "    string = re.sub(r'[,-./]|\\sBD',r'', string)\n",
    "    ngrams = zip(*[string[i:] for i in range(n)])\n",
    "    return [''.join(ngram) for ngram in ngrams]\n",
    "\n",
    "print('All 3-grams in \"McDonalds\":')\n",
    "ngrams('McDonalds')"
   ]
  },
  {
   "cell_type": "code",
   "execution_count": 14,
   "metadata": {},
   "outputs": [],
   "source": [
    "# Can be parallelized\n",
    "from sklearn.feature_extraction.text import TfidfVectorizer\n",
    "\n",
    "company_names = groundTruth['name']\n",
    "vectorizer = TfidfVectorizer(min_df=1, analyzer=ngrams)\n",
    "ground_truth_matrix = vectorizer.fit_transform(company_names)"
   ]
  },
  {
   "cell_type": "markdown",
   "metadata": {},
   "source": [
    "### Pairwise similarity implementation"
   ]
  },
  {
   "cell_type": "code",
   "execution_count": 11,
   "metadata": {},
   "outputs": [],
   "source": [
    "from sklearn.metrics.pairwise import cosine_similarity\n",
    "# A function that given an input query item returns the top-k most similar items \n",
    "# by their cosine similarity.\n",
    "def find_similar(query_vector, td_matrix, top_k = 5):\n",
    "    cosine_similarities = cosine_similarity(query_vector, td_matrix).flatten()\n",
    "    related_doc_indices = cosine_similarities.argsort()[::-1]\n",
    "    return [(index, cosine_similarities[index]) for index in related_doc_indices][0:top_k]"
   ]
  },
  {
   "cell_type": "code",
   "execution_count": 16,
   "metadata": {},
   "outputs": [
    {
     "name": "stdout",
     "output_type": "stream",
     "text": [
      "ATRION Immo bilien & Co. KG\n",
      "\n",
      "similar:\n",
      "0.4982011041510661 342766 company_id                               250537\n",
      "name          ATRION Immobilien Verwaltung GmbH\n",
      "Name: 342766, dtype: object\n"
     ]
    }
   ],
   "source": [
    "# Transform our string using the vocabulary\n",
    "str = sTrain['name'][0]\n",
    "print(str)\n",
    "transformed = vectorizer.transform([str])\n",
    "#print (transformed)\n",
    "#print (vectorizer.inverse_transform(transformed))\n",
    "query = transformed[0:1]\n",
    "#print(query)\n",
    "#print (vectorizer.inverse_transform(query))\n",
    "\n",
    "#print (post_index, \"\\tsubreddit:\", post_frame.iloc[post_index, 0], \"; [body]:\", post_frame.iloc[post_index, 5].replace('\\n', ''))\n",
    "print (\"\\nsimilar:\")\n",
    "for index, score in find_similar(query, ground_truth_matrix, 1):\n",
    "  print(score, index, groundTruth.iloc[index])"
   ]
  },
  {
   "cell_type": "code",
   "execution_count": 18,
   "metadata": {},
   "outputs": [
    {
     "name": "stdout",
     "output_type": "stream",
     "text": [
      "SELFTIMED: 9.223871946334839\n"
     ]
    }
   ],
   "source": [
    "import time\n",
    "t1 = time.time()\n",
    "for idx, row in sTrain.iterrows():\n",
    "    str = sTrain['name'][idx]\n",
    "    transformed = vectorizer.transform([str])\n",
    "    query = transformed[0:1]\n",
    "    index, score = find_similar(query, ground_truth_matrix, 1)[0]\n",
    "    sTrain.loc[idx,'match_name'] = groundTruth.iloc[index]['name']\n",
    "    sTrain.loc[idx,'match_company_id'] = groundTruth.iloc[index]['company_id']\n",
    "    sTrain.loc[idx,'match_score'] = score\n",
    "    if idx==10:\n",
    "        break\n",
    "t = time.time()-t1\n",
    "print(\"SELFTIMED:\", t)"
   ]
  },
  {
   "cell_type": "code",
   "execution_count": 19,
   "metadata": {},
   "outputs": [
    {
     "data": {
      "text/html": [
       "<div>\n",
       "<style scoped>\n",
       "    .dataframe tbody tr th:only-of-type {\n",
       "        vertical-align: middle;\n",
       "    }\n",
       "\n",
       "    .dataframe tbody tr th {\n",
       "        vertical-align: top;\n",
       "    }\n",
       "\n",
       "    .dataframe thead th {\n",
       "        text-align: right;\n",
       "    }\n",
       "</style>\n",
       "<table border=\"1\" class=\"dataframe\">\n",
       "  <thead>\n",
       "    <tr style=\"text-align: right;\">\n",
       "      <th></th>\n",
       "      <th>train_index</th>\n",
       "      <th>name</th>\n",
       "      <th>company_id</th>\n",
       "      <th>match_name</th>\n",
       "      <th>match_company_id</th>\n",
       "      <th>match_score</th>\n",
       "    </tr>\n",
       "  </thead>\n",
       "  <tbody>\n",
       "    <tr>\n",
       "      <th>0</th>\n",
       "      <td>0</td>\n",
       "      <td>ATRION Immo bilien &amp; Co. KG</td>\n",
       "      <td>-1</td>\n",
       "      <td>ATRION Immobilien Verwaltung GmbH</td>\n",
       "      <td>250537.0</td>\n",
       "      <td>0.498201</td>\n",
       "    </tr>\n",
       "    <tr>\n",
       "      <th>1</th>\n",
       "      <td>1</td>\n",
       "      <td>MyTyme Inve stments Inc</td>\n",
       "      <td>356624</td>\n",
       "      <td>MyTyme Investments Inc</td>\n",
       "      <td>356624.0</td>\n",
       "      <td>0.901331</td>\n",
       "    </tr>\n",
       "    <tr>\n",
       "      <th>2</th>\n",
       "      <td>2</td>\n",
       "      <td>Financial USI.</td>\n",
       "      <td>510805</td>\n",
       "      <td>DS Financial, LLC</td>\n",
       "      <td>152602.0</td>\n",
       "      <td>0.592161</td>\n",
       "    </tr>\n",
       "    <tr>\n",
       "      <th>3</th>\n",
       "      <td>3</td>\n",
       "      <td>FlexShares Trust - FlexShares Morningstar Emer...</td>\n",
       "      <td>523467</td>\n",
       "      <td>FlexShares Trust - FlexShares Morningstar Emer...</td>\n",
       "      <td>523467.0</td>\n",
       "      <td>0.962004</td>\n",
       "    </tr>\n",
       "    <tr>\n",
       "      <th>4</th>\n",
       "      <td>4</td>\n",
       "      <td>Health Sinai SF</td>\n",
       "      <td>231108</td>\n",
       "      <td>Sinai Health System Foundation</td>\n",
       "      <td>231108.0</td>\n",
       "      <td>0.541243</td>\n",
       "    </tr>\n",
       "  </tbody>\n",
       "</table>\n",
       "</div>"
      ],
      "text/plain": [
       "   train_index                                               name  company_id  \\\n",
       "0            0                        ATRION Immo bilien & Co. KG          -1   \n",
       "1            1                            MyTyme Inve stments Inc      356624   \n",
       "2            2                                     Financial USI.      510805   \n",
       "3            3  FlexShares Trust - FlexShares Morningstar Emer...      523467   \n",
       "4            4                                    Health Sinai SF      231108   \n",
       "\n",
       "                                          match_name  match_company_id  \\\n",
       "0                  ATRION Immobilien Verwaltung GmbH          250537.0   \n",
       "1                             MyTyme Investments Inc          356624.0   \n",
       "2                                  DS Financial, LLC          152602.0   \n",
       "3  FlexShares Trust - FlexShares Morningstar Emer...          523467.0   \n",
       "4                     Sinai Health System Foundation          231108.0   \n",
       "\n",
       "   match_score  \n",
       "0     0.498201  \n",
       "1     0.901331  \n",
       "2     0.592161  \n",
       "3     0.962004  \n",
       "4     0.541243  "
      ]
     },
     "execution_count": 19,
     "metadata": {},
     "output_type": "execute_result"
    }
   ],
   "source": [
    "sTrain.head()"
   ]
  },
  {
   "cell_type": "code",
   "execution_count": null,
   "metadata": {},
   "outputs": [],
   "source": []
  }
 ],
 "metadata": {
  "kernelspec": {
   "display_name": "Python 3",
   "language": "python",
   "name": "python3"
  },
  "language_info": {
   "codemirror_mode": {
    "name": "ipython",
    "version": 3
   },
   "file_extension": ".py",
   "mimetype": "text/x-python",
   "name": "python",
   "nbconvert_exporter": "python",
   "pygments_lexer": "ipython3",
   "version": "3.6.4"
  }
 },
 "nbformat": 4,
 "nbformat_minor": 2
}
