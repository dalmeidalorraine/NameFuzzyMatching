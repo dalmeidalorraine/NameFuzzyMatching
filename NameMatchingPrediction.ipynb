{
 "cells": [
  {
   "cell_type": "code",
   "execution_count": 1,
   "metadata": {},
   "outputs": [],
   "source": [
    "import pandas as pd\n",
    "import numpy as np\n",
    "import pickle\n",
    "import re\n",
    "from sklearn.feature_extraction.text import TfidfVectorizer\n",
    "from scipy import sparse"
   ]
  },
  {
   "cell_type": "code",
   "execution_count": 2,
   "metadata": {},
   "outputs": [],
   "source": [
    "def ngrams(string, n=3):\n",
    "    string = re.sub(r'[,-./\\']',r'', string)\n",
    "    ngrams = zip(*[string[i:] for i in range(n)])\n",
    "    return [''.join(ngram) for ngram in ngrams]"
   ]
  },
  {
   "cell_type": "code",
   "execution_count": 3,
   "metadata": {},
   "outputs": [],
   "source": [
    "# Below code calculates cosine similarities and return top results\n",
    "def get_top_sim(sparse_row):\n",
    "    nnz = sparse_row.getnnz()\n",
    "    if nnz==0:\n",
    "        return (0.0, None, -1)\n",
    "    else:\n",
    "        arg_index = np.argpartition(sparse_row.data, -1)[-1]\n",
    "        match_id = sparse_row.indices[arg_index]\n",
    "        match_score = sparse_row.data[arg_index]\n",
    "        if match_score<0.60:\n",
    "            result = (0.0, \"NaN\", -1)\n",
    "        else:\n",
    "            result = (match_score, groundTruth.loc[match_id]['name'], \n",
    "                     groundTruth.loc[match_id]['company_id'])\n",
    "    return result\n",
    "def cosine_similarities(trainMat, groundTruthMat):\n",
    "    sim = trainMat.dot(groundTruthMat.T)\n",
    "    #sim = trainMat*groundTruthMat.T.tocsc()\n",
    "    return [get_top_sim(row) for row in sim]"
   ]
  },
  {
   "cell_type": "code",
   "execution_count": 4,
   "metadata": {},
   "outputs": [],
   "source": [
    "def execute_matching(sTestFil, match_df):\n",
    "    test_matrix = vectorizer.transform(sTestFil['name'])\n",
    "    res = cosine_similarities(test_matrix, ground_truth_matrix)\n",
    "    match_score, match_name , match_company_id = zip(*res)\n",
    "    sTestFil['match_company_id'] = np.array(match_company_id)\n",
    "    match_df = match_df.append(sTestFil[[\"test_index\", \"match_company_id\"]])\n",
    "    return match_df"
   ]
  },
  {
   "cell_type": "code",
   "execution_count": 5,
   "metadata": {},
   "outputs": [],
   "source": [
    "def index_range(nrows, chunk_size):\n",
    "    return range(1 * chunk_size, (nrows // chunk_size ) * chunk_size, chunk_size)\n",
    "\n",
    "def split(dfm, chunk_size):\n",
    "    indices = index_range(dfm.shape[0], chunk_size)\n",
    "    return np.split(dfm, indices)"
   ]
  },
  {
   "cell_type": "code",
   "execution_count": 7,
   "metadata": {},
   "outputs": [],
   "source": [
    "groundTruth = pd.read_csv(\"Datasets/G.csv\", sep='|')\n",
    "sTest = pd.read_csv(\"Datasets/STest.csv\", sep='|')\n",
    "vectorizer = pickle.load(open(\"vectorizer.pickle\", \"rb\"))\n",
    "ground_truth_matrix = sparse.load_npz(\"ground_truth.npz\")\n",
    "slices = split(sTest, 10000)\n",
    "df_ = pd.DataFrame(columns=[\"test_index\", \"match_company_id\"])\n",
    "for sTestFil in slices:\n",
    "    df_ = execute_matching(sTestFil, df_)"
   ]
  },
  {
   "cell_type": "code",
   "execution_count": 10,
   "metadata": {},
   "outputs": [
    {
     "data": {
      "text/plain": [
       "TfidfVectorizer(analyzer=<function ngrams at 0x1a0a3ce2f0>, binary=False,\n",
       "        decode_error='strict', dtype=<class 'numpy.int64'>,\n",
       "        encoding='utf-8', input='content', lowercase=True, max_df=1.0,\n",
       "        max_features=None, min_df=1, ngram_range=(1, 1), norm='l2',\n",
       "        preprocessor=None, smooth_idf=True, stop_words=None,\n",
       "        strip_accents=None, sublinear_tf=False,\n",
       "        token_pattern='(?u)\\\\b\\\\w\\\\w+\\\\b', tokenizer=None, use_idf=True,\n",
       "        vocabulary=None)"
      ]
     },
     "execution_count": 10,
     "metadata": {},
     "output_type": "execute_result"
    }
   ],
   "source": [
    "vectorizer"
   ]
  },
  {
   "cell_type": "code",
   "execution_count": 8,
   "metadata": {},
   "outputs": [],
   "source": [
    "df_.to_csv(\"result_fin.csv\", sep='|', header=True, index=False)"
   ]
  },
  {
   "cell_type": "code",
   "execution_count": 9,
   "metadata": {},
   "outputs": [
    {
     "data": {
      "text/html": [
       "<div>\n",
       "<style scoped>\n",
       "    .dataframe tbody tr th:only-of-type {\n",
       "        vertical-align: middle;\n",
       "    }\n",
       "\n",
       "    .dataframe tbody tr th {\n",
       "        vertical-align: top;\n",
       "    }\n",
       "\n",
       "    .dataframe thead th {\n",
       "        text-align: right;\n",
       "    }\n",
       "</style>\n",
       "<table border=\"1\" class=\"dataframe\">\n",
       "  <thead>\n",
       "    <tr style=\"text-align: right;\">\n",
       "      <th></th>\n",
       "      <th>test_index</th>\n",
       "      <th>match_company_id</th>\n",
       "    </tr>\n",
       "  </thead>\n",
       "  <tbody>\n",
       "    <tr>\n",
       "      <th>0</th>\n",
       "      <td>0</td>\n",
       "      <td>74004</td>\n",
       "    </tr>\n",
       "    <tr>\n",
       "      <th>1</th>\n",
       "      <td>1</td>\n",
       "      <td>-1</td>\n",
       "    </tr>\n",
       "    <tr>\n",
       "      <th>2</th>\n",
       "      <td>2</td>\n",
       "      <td>379427</td>\n",
       "    </tr>\n",
       "    <tr>\n",
       "      <th>3</th>\n",
       "      <td>3</td>\n",
       "      <td>-1</td>\n",
       "    </tr>\n",
       "    <tr>\n",
       "      <th>4</th>\n",
       "      <td>4</td>\n",
       "      <td>588856</td>\n",
       "    </tr>\n",
       "  </tbody>\n",
       "</table>\n",
       "</div>"
      ],
      "text/plain": [
       "  test_index match_company_id\n",
       "0          0            74004\n",
       "1          1               -1\n",
       "2          2           379427\n",
       "3          3               -1\n",
       "4          4           588856"
      ]
     },
     "execution_count": 9,
     "metadata": {},
     "output_type": "execute_result"
    }
   ],
   "source": [
    "df_.head()"
   ]
  },
  {
   "cell_type": "code",
   "execution_count": null,
   "metadata": {},
   "outputs": [],
   "source": []
  }
 ],
 "metadata": {
  "kernelspec": {
   "display_name": "Python 3",
   "language": "python",
   "name": "python3"
  },
  "language_info": {
   "codemirror_mode": {
    "name": "ipython",
    "version": 3
   },
   "file_extension": ".py",
   "mimetype": "text/x-python",
   "name": "python",
   "nbconvert_exporter": "python",
   "pygments_lexer": "ipython3",
   "version": "3.6.4"
  }
 },
 "nbformat": 4,
 "nbformat_minor": 2
}
